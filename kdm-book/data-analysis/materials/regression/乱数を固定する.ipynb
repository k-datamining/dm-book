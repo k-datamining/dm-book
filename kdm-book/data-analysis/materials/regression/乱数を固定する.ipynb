{
 "cells": [
  {
   "cell_type": "markdown",
   "id": "c3a11783",
   "metadata": {},
   "source": [
    "# 乱数を固定する\n",
    "```{hint}\n",
    "- [numpy.random.seed](https://numpy.org/doc/stable/reference/random/generated/numpy.random.seed.html)\n",
    "- [NEP 19 — Random number generator policy](https://numpy.org/neps/nep-0019-rng-policy.html)\n",
    "```\n",
    "\n",
    "この資料では、各notebookにて `np.random.seed(777)` などと指定しています。このようにすることで numpy から生成される乱数を固定することができます。"
   ]
  },
  {
   "cell_type": "code",
   "execution_count": 1,
   "id": "0efde1e6",
   "metadata": {},
   "outputs": [
    {
     "name": "stdout",
     "output_type": "stream",
     "text": [
      "[-0.46820879 -0.82282485 -0.0653801  -0.71336192  0.90635089  0.76623673\n",
      "  0.82605407 -1.32368279 -1.75244452  1.00244907]\n"
     ]
    }
   ],
   "source": [
    "import numpy as np\n",
    "from scipy.stats import norm\n",
    "\n",
    "# 正規分布からデータをサンプルします\n",
    "np.random.seed(777)\n",
    "y_rvs = norm.rvs(size=10)\n",
    "print(y_rvs)"
   ]
  },
  {
   "cell_type": "markdown",
   "id": "ec863751",
   "metadata": {},
   "source": [
    "同じ数値が norm.rvs （正規分布）から生成されることを確認します。"
   ]
  },
  {
   "cell_type": "code",
   "execution_count": 2,
   "id": "12235caa",
   "metadata": {},
   "outputs": [
    {
     "name": "stdout",
     "output_type": "stream",
     "text": [
      "[-0.46820879 -0.82282485 -0.0653801  -0.71336192  0.90635089  0.76623673\n",
      "  0.82605407 -1.32368279 -1.75244452  1.00244907]\n"
     ]
    }
   ],
   "source": [
    "np.random.seed(777)\n",
    "y_rvs = norm.rvs(size=10)\n",
    "print(y_rvs)"
   ]
  }
 ],
 "metadata": {
  "kernelspec": {
   "display_name": "Python 3 (ipykernel)",
   "language": "python",
   "name": "python3"
  },
  "language_info": {
   "codemirror_mode": {
    "name": "ipython",
    "version": 3
   },
   "file_extension": ".py",
   "mimetype": "text/x-python",
   "name": "python",
   "nbconvert_exporter": "python",
   "pygments_lexer": "ipython3",
   "version": "3.8.5"
  }
 },
 "nbformat": 4,
 "nbformat_minor": 5
}
